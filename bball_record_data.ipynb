{
 "cells": [
  {
   "cell_type": "code",
   "execution_count": 7,
   "metadata": {
    "collapsed": true
   },
   "outputs": [],
   "source": [
    "import pandas as pd"
   ]
  },
  {
   "cell_type": "code",
   "execution_count": 10,
   "metadata": {},
   "outputs": [
    {
     "name": "stdout",
     "output_type": "stream",
     "text": [
      "Simulating 100 coin tosses...\n",
      "[0, 0, 1, 0, 1, 1, 0, 0, 0, 1, 1, 1, 1, 1, 0, 0, 1, 1, 1, 0, 1, 1, 1, 1, 0, 1, 0, 1, 0, 0, 0, 1, 1, 1, 1, 0, 1, 1, 1, 1, 0, 0, 1, 1, 0, 1, 1, 1, 0, 1, 0, 1, 1, 0, 0, 0, 1, 0, 0, 0, 0, 1, 1, 1, 0, 0, 1, 0, 1, 0, 0, 1, 1, 0, 1, 0, 0, 0, 1, 1, 1, 1, 1, 1, 1, 1, 1, 1, 0, 1, 0, 0, 1, 1, 1, 0, 1, 0, 0, 1]\n"
     ]
    }
   ],
   "source": [
    "import random\n",
    "\n",
    "def simulate_coin_toss(n):\n",
    "    return [random.getrandbits(1) for i in range(n)]\n",
    "\n",
    "def get_num_heads(sim):\n",
    "    num_heads = 0\n",
    "    for result in sim:\n",
    "        num_heads += result\n",
    "    return num_heads\n",
    "\n",
    "def get_longest_streak(sim):\n",
    "    max_streak = 0\n",
    "    curr_streak = 0\n",
    "    for result in sim:\n",
    "        if result == 0:\n",
    "            if curr_streak > max_streak:\n",
    "                max_streak = curr_streak\n",
    "            curr_streak = 0\n",
    "        else:\n",
    "            curr_streak += 1\n",
    "    return max(curr_streak, max_streak)\n",
    "\n",
    "if __name__ == '__main__':\n",
    "    print(\"Simulating 100 coin tosses...\")\n",
    "    print(simulate_coin_toss(100))"
   ]
  },
  {
   "cell_type": "code",
   "execution_count": 25,
   "metadata": {},
   "outputs": [],
   "source": [
    "import numpy as np\n",
    "import plotly\n",
    "plotly.tools.set_credentials_file(username='reddit_unlocked', api_key='gfnXKc7JvUKST4HRJyFX')\n",
    "import plotly.plotly as py\n",
    "import plotly.graph_objs as go\n",
    "from plotly.graph_objs import *\n",
    "\n",
    "def create_overlaid_histograms(arr2d):\n",
    "    trace1 = go.Histogram(\n",
    "        x=arr2d[0],\n",
    "        opacity=0.75\n",
    "    )\n",
    "    trace2 = go.Histogram(\n",
    "        x=arr2d[1],\n",
    "        opacity=0.75\n",
    "    )\n",
    "\n",
    "    data = [trace1, trace2]\n",
    "    layout = go.Layout(barmode='overlay')\n",
    "    fig = go.Figure(data=data, layout=layout)\n",
    "    #print(fig)\n",
    "\n",
    "    return fig\n"
   ]
  },
  {
   "cell_type": "code",
   "execution_count": 30,
   "metadata": {},
   "outputs": [
    {
     "data": {
      "text/html": [
       "<iframe id=\"igraph\" scrolling=\"no\" style=\"border:none;\" seamless=\"seamless\" src=\"https://plot.ly/~reddit_unlocked/128.embed\" height=\"525px\" width=\"100%\"></iframe>"
      ],
      "text/plain": [
       "<plotly.tools.PlotlyDisplay object>"
      ]
     },
     "execution_count": 30,
     "metadata": {},
     "output_type": "execute_result"
    }
   ],
   "source": [
    "num_wins_arr = []\n",
    "num_wins_arr.append([])\n",
    "win_streak_arr = []\n",
    "win_streak_arr.append([])\n",
    "for i in range(500):\n",
    "    sim = simulate_coin_toss(82)\n",
    "    num_wins_arr[0].append(get_num_heads(sim))\n",
    "    win_streak_arr[0].append(get_longest_streak(sim))\n",
    "    \n",
    "num_wins_arr.append(num_wins_arr[0])\n",
    "win_streak_arr.append(win_streak_arr[0])\n",
    "fig = create_overlaid_histograms(num_wins_arr)\n",
    "\n",
    "py.iplot(fig, filename='overlaid histogram')"
   ]
  },
  {
   "cell_type": "code",
   "execution_count": null,
   "metadata": {
    "collapsed": true
   },
   "outputs": [],
   "source": []
  }
 ],
 "metadata": {
  "kernelspec": {
   "display_name": "Python 3",
   "language": "python",
   "name": "python3"
  },
  "language_info": {
   "codemirror_mode": {
    "name": "ipython",
    "version": 3
   },
   "file_extension": ".py",
   "mimetype": "text/x-python",
   "name": "python",
   "nbconvert_exporter": "python",
   "pygments_lexer": "ipython3",
   "version": "3.6.3"
  }
 },
 "nbformat": 4,
 "nbformat_minor": 2
}
