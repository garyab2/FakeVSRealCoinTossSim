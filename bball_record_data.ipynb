{
 "cells": [
  {
   "cell_type": "code",
   "execution_count": 1,
   "metadata": {},
   "outputs": [
    {
     "name": "stdout",
     "output_type": "stream",
     "text": [
      "Simulating 100 coin tosses...\n",
      "[0, 0, 1, 1, 1, 1, 0, 1, 0, 0, 1, 0, 1, 0, 1, 0, 1, 1, 1, 1, 0, 1, 1, 1, 0, 0, 1, 1, 0, 1, 0, 0, 1, 1, 1, 0, 1, 0, 1, 0, 1, 0, 0, 1, 1, 1, 0, 1, 0, 0, 1, 1, 0, 0, 0, 0, 0, 1, 0, 1, 1, 1, 0, 0, 1, 0, 1, 0, 1, 0, 0, 1, 1, 0, 0, 1, 1, 0, 0, 0, 0, 0, 0, 1, 0, 1, 1, 0, 1, 0, 1, 0, 0, 0, 0, 1, 1, 1, 0, 0]\n"
     ]
    }
   ],
   "source": [
    "import random\n",
    "\n",
    "def simulate_coin_toss(n):\n",
    "    return [random.getrandbits(1) for i in range(n)]\n",
    "\n",
    "def get_num_heads(sim):\n",
    "    num_heads = 0\n",
    "    for result in sim:\n",
    "        num_heads += result\n",
    "    return num_heads\n",
    "\n",
    "def get_longest_streak(sim):\n",
    "    max_streak = 0\n",
    "    curr_streak = 0\n",
    "    for result in sim:\n",
    "        if result == 0:\n",
    "            if curr_streak > max_streak:\n",
    "                max_streak = curr_streak\n",
    "            curr_streak = 0\n",
    "        else:\n",
    "            curr_streak += 1\n",
    "    return max(curr_streak, max_streak)\n",
    "\n",
    "if __name__ == '__main__':\n",
    "    print(\"Simulating 100 coin tosses...\")\n",
    "    print(simulate_coin_toss(100))"
   ]
  },
  {
   "cell_type": "code",
   "execution_count": 7,
   "metadata": {},
   "outputs": [],
   "source": [
    "import numpy as np\n",
    "import plotly\n",
    "plotly.tools.set_credentials_file(username='reddit_unlocked', api_key='gfnXKc7JvUKST4HRJyFX')\n",
    "import plotly.plotly as py\n",
    "import plotly.graph_objs as go\n",
    "from plotly.graph_objs import *\n",
    "\n",
    "def create_overlaid_histograms(arr2d):\n",
    "    trace1 = go.Histogram(\n",
    "        x=arr2d[0],\n",
    "        opacity=0.75\n",
    "    )\n",
    "    trace2 = go.Histogram(\n",
    "        x=arr2d[1],\n",
    "        opacity=0.75\n",
    "    )\n",
    "\n",
    "    data = [trace1, trace2]\n",
    "    layout = go.Layout(barmode='overlay')\n",
    "    fig = go.Figure(data=data, layout=layout)\n",
    "    #print(fig)\n",
    "\n",
    "    return fig\n"
   ]
  },
  {
   "cell_type": "code",
   "execution_count": 8,
   "metadata": {},
   "outputs": [
    {
     "name": "stdout",
     "output_type": "stream",
     "text": [
      "{'Celtics': [48, 40, 25, 41, 39, 56, 50, 62, 66, 24, 33, 45, 36, 44, 49, 36, 35, 19, 36, 15, 33, 35, 32, 48, 51, 56, 52, 42, 57, 59, 67, 63, 62, 56, 63, 62], 'Hawks': [48, 60, 38, 44, 40, 44, 53, 47, 37, 30, 26, 13, 28, 35, 33, 25, 28, 31, 50, 56, 46, 42, 57, 43, 38, 43, 41, 52, 50, 57, 50, 34, 40, 43, 42, 31], 'Nets': [21, 38, 44, 49, 22, 24, 12, 34, 34, 41, 49, 42, 47, 49, 52, 26, 31, 16, 43, 26, 30, 30, 45, 43, 40, 26, 17, 26, 19, 24, 39, 42, 45, 49, 44, 24], 'Hornets': [48, 33, 43, 21, 7, 34, 44, 35, 32, 33, 26, 18, 44, 46, 49, 26, 51, 54, 41, 50, 41, 44, 31, 26, 19, 20], 'Bulls': [42, 50, 48, 45, 50, 62, 41, 41, 33, 49, 41, 47, 23, 30, 21, 15, 17, 13, 62, 69, 72, 47, 55, 57, 67, 61, 55, 47, 50, 40, 30, 38, 27, 28, 34, 45], 'Cavaliers': [57, 53, 33, 24, 21, 19, 61, 66, 45, 50, 50, 42, 35, 17, 29, 30, 32, 22, 47, 42, 47, 43, 47, 54, 57, 33, 42, 57, 42, 31, 29, 36, 28, 23, 15, 28], 'Mavericks': [42, 50, 49, 41, 36, 57, 55, 50, 51, 67, 60, 58, 52, 60, 57, 53, 40, 19, 20, 24, 26, 36, 13, 11, 22, 28, 47, 38, 53, 55, 44, 44, 43, 38, 28, 15], 'Nuggets': [33, 30, 36, 57, 38, 50, 53, 54, 50, 45, 44, 49, 43, 17, 27, 40, 35, 14, 11, 21, 35, 41, 42, 36, 24, 20, 43, 44, 54, 37, 47, 52, 38, 45, 46, 37], 'Pistons': [44, 32, 29, 29, 25, 30, 27, 39, 59, 53, 64, 54, 54, 50, 50, 32, 42, 29, 37, 54, 46, 28, 20, 40, 48, 50, 59, 63, 54, 52, 46, 46, 49, 37, 39, 21], 'Warriors': [73, 67, 51, 47, 23, 36, 26, 29, 48, 42, 34, 34, 37, 38, 21, 17, 19, 21, 19, 30, 36, 26, 50, 34, 55, 44, 37, 43, 20, 42, 30, 22, 37, 30, 45, 39], 'Rockets': [41, 56, 54, 45, 34, 43, 42, 53, 55, 52, 34, 51, 45, 43, 28, 45, 34, 31, 41, 57, 48, 47, 58, 55, 42, 52, 41, 45, 46, 42, 51, 48, 29, 14, 46, 40], 'Pacers': [45, 38, 56, 49, 42, 37, 32, 36, 36, 35, 41, 44, 61, 48, 42, 41, 56, 33, 58, 39, 52, 52, 47, 41, 40, 41, 42, 28, 38, 41, 26, 22, 26, 20, 35, 44], 'Clippers': [53, 56, 57, 56, 40, 32, 29, 19, 23, 40, 47, 37, 28, 27, 39, 31, 15, 9, 17, 36, 29, 17, 27, 41, 45, 31, 30, 21, 17, 12, 32, 31, 30, 25, 17, 36], 'Lakers': [17, 21, 27, 45, 41, 57, 57, 65, 57, 42, 45, 34, 56, 50, 58, 56, 67, 31, 61, 56, 53, 48, 33, 39, 43, 58, 63, 57, 62, 65, 62, 62, 54, 58, 57, 54], 'Grizzlies': [42, 55, 50, 56, 41, 46, 40, 24, 22, 22, 49, 45, 50, 28, 23, 23, 22, 8, 19, 14, 15], 'Heat': [48, 37, 54, 66, 46, 58, 47, 43, 15, 44, 52, 59, 42, 25, 36, 50, 52, 33, 55, 61, 42, 32, 42, 36, 38, 24, 18, 15], 'Bucks': [33, 41, 15, 38, 31, 35, 46, 34, 26, 28, 40, 30, 41, 42, 41, 52, 42, 28, 36, 33, 25, 34, 20, 28, 31, 48, 44, 49, 42, 50, 57, 59, 50, 51, 55, 60], 'Timberwolves': [29, 16, 40, 31, 26, 17, 15, 24, 22, 32, 33, 44, 58, 51, 50, 47, 50, 25, 45, 40, 26, 21, 20, 19, 15, 29, 22], 'Pelicans': [30, 45, 34, 27, 21, 46, 37, 49, 56, 39, 38, 18, 41, 47], 'Knicks': [19, 32, 17, 37, 54, 36, 42, 29, 32, 23, 33, 23, 33, 39, 37, 30, 48, 50, 27, 43, 57, 47, 55, 57, 60, 51, 39, 45, 52, 38, 24, 23, 24, 47, 44, 33, 50], 'Thunder': [55, 45, 59, 60, 47, 55, 50, 23, 20, 31, 35, 52, 37, 40, 45, 44, 45, 25, 61, 57, 64, 57, 63, 55, 47, 41, 41, 47, 44, 39, 31, 31, 42, 48, 52, 34], 'Magic': [35, 25, 23, 20, 37, 52, 59, 59, 52, 40, 36, 36, 21, 42, 44, 43, 41, 33, 41, 45, 60, 57, 50, 41, 21, 31, 18], '76ers': [10, 18, 19, 34, 35, 41, 27, 41, 40, 35, 38, 43, 33, 48, 43, 56, 49, 28, 31, 22, 18, 24, 25, 26, 35, 44, 53, 46, 36, 45, 54, 58, 52, 65, 58, 62], 'Suns': [23, 39, 48, 25, 33, 40, 54, 46, 55, 61, 54, 62, 29, 44, 36, 51, 53, 27, 56, 40, 41, 59, 56, 62, 53, 55, 54, 55, 28, 36, 32, 36, 41, 53, 46, 57], 'Trail': [44, 51, 54, 33, 28, 48, 50, 54, 41, 32, 21, 27, 41, 50, 49, 50, 59, 35, 46, 49, 44, 44, 47, 51, 57, 63, 59, 39, 53, 49, 40, 42, 48, 46, 42, 45], 'Kings': [33, 29, 28, 28, 22, 24, 25, 17, 38, 33, 44, 50, 55, 59, 61, 55, 44, 27, 27, 34, 39, 39, 28, 25, 29, 25, 23, 27, 24, 29, 37, 31, 38, 45, 30, 40], 'Spurs': [67, 55, 62, 58, 50, 61, 50, 54, 56, 58, 63, 59, 57, 60, 58, 58, 53, 37, 56, 20, 59, 62, 55, 49, 47, 55, 56, 21, 31, 28, 35, 41, 37, 53, 48, 52], 'Raptors': [56, 49, 48, 34, 23, 22, 40, 33, 41, 47, 27, 33, 33, 24, 42, 47, 45, 23, 16, 30, 21], 'Jazz': [40, 38, 25, 43, 36, 39, 53, 48, 54, 51, 41, 26, 42, 47, 44, 53, 55, 37, 62, 64, 55, 60, 53, 47, 55, 54, 55, 51, 47, 44, 42, 41, 45, 30, 25, 28], 'Wizards': [41, 46, 44, 29, 20, 23, 26, 19, 43, 41, 42, 45, 25, 37, 37, 19, 29, 18, 42, 44, 39, 21, 24, 22, 25, 30, 31, 40, 38, 42, 39, 40, 35, 42, 43, 39]}\n"
     ]
    }
   ],
   "source": [
    "import pandas as pd\n",
    "\n",
    "def get_nba_wins(csv_filename):\n",
    "    names = [\n",
    "        'Celtics', 'Hawks',  'Nets', 'Hornets', 'Bulls', 'Cavaliers', 'Mavericks', 'Nuggets',\n",
    "        'Pistons','Warriors','Rockets','Pacers','Clippers','Lakers','Grizzlies','Heat',\n",
    "        'Bucks','Timberwolves','Pelicans','Knicks','Thunder','Magic','76ers','Suns',\n",
    "        'Trail','Kings','Spurs','Raptors','Jazz','Wizards'\n",
    "    ]\n",
    "\n",
    "    df = pd.read_csv(csv_filename)\n",
    "    df['Year'] = df['Year'].apply(lambda y: int(y[:4]) +1)\n",
    "    df = df[(df['Year'] < 2017) & (df['Year'] > 1980)]\n",
    "\n",
    "    df = df.reset_index(drop=True)\n",
    "    df.reindex(list(range(len(df))))\n",
    "\n",
    "    j = 0\n",
    "    wins = {n : [] for n in names}\n",
    "    for i, n in enumerate(names):\n",
    "        while j < len(df) and df['Team'][j] != names[(i + 1) % len(names)]:\n",
    "            wins[n].append(int(df['Record'][j].split('-')[0]))\n",
    "            j += 1\n",
    "\n",
    "    return wins\n",
    "\n",
    "if __name__ == '__main__':\n",
    "    print(get_nba_wins(\"nba_data.csv\"))"
   ]
  },
  {
   "cell_type": "code",
   "execution_count": 10,
   "metadata": {},
   "outputs": [
    {
     "name": "stdout",
     "output_type": "stream",
     "text": [
      "[[45, 38, 31, 41, 39, 45, 39, 40, 42, 48, 44, 45, 42, 44, 44, 37, 55, 44, 44, 47, 41, 40, 46, 41, 32, 40, 37, 41, 42, 51, 42, 42, 41, 40, 41, 41], [42, 50, 48, 45, 50, 62, 41, 41, 33, 49, 41, 47, 23, 30, 21, 15, 17, 13, 62, 69, 72, 47, 55, 57, 67, 61, 55, 47, 50, 40, 30, 38, 27, 28, 34, 45]]\n"
     ]
    },
    {
     "data": {
      "text/html": [
       "<iframe id=\"igraph\" scrolling=\"no\" style=\"border:none;\" seamless=\"seamless\" src=\"https://plot.ly/~reddit_unlocked/128.embed\" height=\"525px\" width=\"100%\"></iframe>"
      ],
      "text/plain": [
       "<plotly.tools.PlotlyDisplay object>"
      ]
     },
     "execution_count": 10,
     "metadata": {},
     "output_type": "execute_result"
    }
   ],
   "source": [
    "num_wins_arr = []\n",
    "num_wins_arr.append([])\n",
    "num_wins_arr.append([])\n",
    "for key, value in get_nba_wins(\"nba_data.csv\").items():\n",
    "    if key == 'Bulls':\n",
    "        num_wins_arr[1] = num_wins_arr[1] + value\n",
    "win_streak_arr = []\n",
    "win_streak_arr.append([])\n",
    "for i in range(len(num_wins_arr[1])):\n",
    "    sim = simulate_coin_toss(82)\n",
    "    num_wins_arr[0].append(get_num_heads(sim))\n",
    "    win_streak_arr[0].append(get_longest_streak(sim))\n",
    "    \n",
    "\n",
    "\n",
    "win_streak_arr.append(win_streak_arr[0])\n",
    "print(num_wins_arr)\n",
    "fig = create_overlaid_histograms(num_wins_arr)\n",
    "\n",
    "py.iplot(fig, filename='overlaid histogram')"
   ]
  },
  {
   "cell_type": "code",
   "execution_count": null,
   "metadata": {},
   "outputs": [],
   "source": []
  },
  {
   "cell_type": "code",
   "execution_count": null,
   "metadata": {},
   "outputs": [],
   "source": []
  },
  {
   "cell_type": "code",
   "execution_count": null,
   "metadata": {},
   "outputs": [],
   "source": []
  }
 ],
 "metadata": {
  "kernelspec": {
   "display_name": "Python 3",
   "language": "python",
   "name": "python3"
  },
  "language_info": {
   "codemirror_mode": {
    "name": "ipython",
    "version": 3
   },
   "file_extension": ".py",
   "mimetype": "text/x-python",
   "name": "python",
   "nbconvert_exporter": "python",
   "pygments_lexer": "ipython3",
   "version": "3.6.5"
  }
 },
 "nbformat": 4,
 "nbformat_minor": 2
}
